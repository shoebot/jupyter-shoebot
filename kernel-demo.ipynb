{
 "cells": [
  {
   "cell_type": "markdown",
   "metadata": {},
   "source": [
    "# Kernel demo\n",
    "\n",
    "A quick way to show how to run Shoebot scripts in Jupyter."
   ]
  },
  {
   "cell_type": "code",
   "execution_count": 1,
   "metadata": {},
   "outputs": [
    {
     "data": {
      "image/png": "iVBORw0KGgoAAAANSUhEUgAAAEYAAABGCAIAAAD%2BTHXTAAAABmJLR0QA%2FwD%2FAP%2BgvaeTAAACeUlEQVRoge2bu4rqQByH%2Fx4OEeSQfkFBW4uQNhd9A5%2FANIKdgsUSBHtBiBYGNYWFjS9h7WVq0V6xOP0GIiRptggniKtknclRx52vGmbC8PucyWRyMfH37Q1ei1%2BPDhA%2FTIkGmBINMCUa%2BH2tgZPlpCTdM8pNuAh5q9XFpqtKSUn68%2F7%2B3yIR0%2BtdU%2FpJEy8EIbS68nvcH1mWpajTIVpptVr1er2YIsVApNILTjymRANMiQaiV7xIeJ5XVTWbzQLAfr9fLpcfHx%2Fk3WJDpMRxnK7rlUollUqFlcfjcTKZGIbheR5xPBzwlZLJ5HQ6VRTlrD6VStVqNVEUNU1zXZcsHg7455Ku66HPZrOxLMuyrO12G9QoiqLregwBbwdzlHier1arQbndbg%2BHw7CpXq%2B3Wi0AqFarpmnatk2e8iYwR6lYLHIcBwDr9frUBwAGg8F6vQYAjuMKhQJ5xFvBVEqn00Hh4o4WIRQUMpkMXv8kYColEomzwvOAqXQ4HIKCLMtfW8PK8LB7gqk0n8%2BDBVoQhEajcTpojUZDEAQAcF13sVjEFfT7YK54tm2Px%2BN6vQ4AzWazVCoF6VVVzefzwTHj8fj%2Byx2QXGq73a4oiqqqAkA%2Bnw9NAubzuWEYpOmwwL%2FUep5XLpdN03Qc57TecZx%2Bv69pmu%2F7xPFwINrj%2Bb7f6XRGo5EkSblcDgB2ux1C6CHzLSSGnbht27PZjLyfuHjB%2ByWmRANMiQaYEg0wJRpgSjTAlGiAKdEAU6IBpkQDTIkGmBINMCUaiH7aevEN0qP4TphoJUmSIr8Xeyp%2B0sRzEYJn%2BrLwDPffG%2B6vJNg%2FYyiAKdEAU6IBpkQDn%2FCWujsyI6MrAAAAAElFTkSuQmCC"
     },
     "metadata": {
      "image/png": {
       "height": 70,
       "width": 70
      }
     },
     "output_type": "display_data"
    }
   ],
   "source": [
    "size(70, 70)\n",
    "background(0.9, 0.1, 0.1)\n",
    "\n",
    "stroke(\"#fff\")\n",
    "strokewidth(3)\n",
    "fill(0.1)\n",
    "\n",
    "rect(10,10, 50,50)\n",
    "circle(20,20,10)"
   ]
  },
  {
   "cell_type": "code",
   "execution_count": 2,
   "metadata": {
    "scrolled": true
   },
   "outputs": [
    {
     "data": {
      "image/png": "iVBORw0KGgoAAAANSUhEUgAAAEYAAABGCAIAAAD%2BTHXTAAAABmJLR0QA%2FwD%2FAP%2BgvaeTAAAClUlEQVRoge2bO6viQBiGP5clgiz2BxS0TRFsc9F%2F4C%2FQRkhnIIUEwV4Q1ELxUqSw8U9YR506aK9YbG8gQmKzRdjgnmNOsrl4HM881TCTF74nmUxumvr99gavxY%2BvLiB%2BiBIOECUcIEo48NNrgOK4NMs%2BspT%2FwkLI3m7vDnkqpVn2V6uVWEmRGQ69lL7TxHNBCG099sfj4TiO9Tsd%2FJW22%2B1wOIyppBjwVXrBiUeUcIAo4YD%2FiudLNpsVBKFQKADA8XjcbDbn8%2FkBWS8iKVEUpShKo9HIZDJu5%2BVyWSwW%2FX7ftu2Esp8TXimdTi%2BXS57n3%2FVnMplms1kqler1umVZsWd9CX8uKYri1rTb7ebz%2BXw%2B3%2B%2F3Tg%2FP84qiJJH1JeRRymazoig67W63O51O3SFJkjqdDgCIojgejw3DiDEbhJBHqVKpUBQFALqu39YEAJPJRNd1AKAoqlwux5sNQkilXC7nNO7e0SKEnEY%2Bn483G4SQSqlU6l3jMdkghFQ6nU5Og%2BO4j6Nup7tZXNkghFTSNM1ZZBmGkWX5dsfLsswwDABYlrVer%2BPNBiHkimcYhqqqkiQBQLvdrlarTgWCINA07WyjqurdJStKNgjhL7WDwaBUKgmCAAA0TbvVOGia1u%2F3k8j6Ev5Sa9t2rVYbj8emad72m6Y5Go3q9fr1ek0i60uke7zr9drr9WazGcuyxWIRAA6HA0IoyJyJkv2cGO7EDcNYrVaPz3rxgs9LRAkHiBIORFrxWol9B4jyfvcFlcjE%2B5enev3v8oJKLzjxiBIOECUcIEo4QJRwgCjhAFHCAaKEA%2F7PS3e%2FAn0VQYrxV2JZ1vf3Yk%2FFd5p4FkLwlM%2FhDtbfr9QfSZF%2FxmAAUcIBooQDRAkH%2FgBnmVx5V2Bt4gAAAABJRU5ErkJggg%3D%3D"
     },
     "metadata": {
      "image/png": {
       "height": 70,
       "width": 70
      }
     },
     "output_type": "display_data"
    }
   ],
   "source": [
    "size(70, 70)\n",
    "background(0.9, 0.1, 0.1)\n",
    "\n",
    "stroke(\"#fff\")\n",
    "strokewidth(3)\n",
    "fill(0.1)\n",
    "\n",
    "rect(10,10, 50,50)\n",
    "circle(20,20,10)\n",
    "circle(40,20,10)\n",
    "\n",
    "line(20, 40, 50, 40)"
   ]
  },
  {
   "cell_type": "code",
   "execution_count": null,
   "metadata": {
    "scrolled": false
   },
   "outputs": [
    {
     "name": "stdout",
     "output_type": "stream",
     "text": [
      "Traceback (most recent call last):\n",
      "  File \"shoebot_kernel/kernel.py\", line 36, in do_execute\n",
      "    bot.run(code, break_on_error=True)\n",
      "  File \"/home/rlafuente/repos/python-libs/shoebot/shoebot/grammar/grammar.py\", line 240, in run\n",
      "    self._run_frame(executor, limit=frame_limiter, iteration=iteration)\n",
      "  File \"/home/rlafuente/repos/python-libs/shoebot/shoebot/grammar/grammar.py\", line 148, in _run_frame\n",
      "    executor.run()\n",
      "  File \"/home/rlafuente/repos/python-libs/shoebot/shoebot/grammar/livecode.py\", line 115, in run\n",
      "    self.do_exec(self.known_good, self.ns)\n",
      "  File \"/home/rlafuente/repos/python-libs/shoebot/shoebot/grammar/livecode.py\", line 82, in do_exec\n",
      "    exec source in ns\n",
      "  File \"<string>\", line 4, in <module>\n",
      "NameError: name 'error' is not defined\n"
     ]
    }
   ],
   "source": [
    "size(200,100)\n",
    "background(0.7, 0.3, 0.1)\n",
    "\n",
    "error(\"testing exceptions\")"
   ]
  }
 ],
 "metadata": {
  "kernelspec": {
   "display_name": "Shoebot",
   "language": "",
   "name": "shoebot_kernel"
  },
  "language_info": {
   "file_extension": ".txt",
   "mimetype": "text/plain",
   "name": "Any text"
  }
 },
 "nbformat": 4,
 "nbformat_minor": 2
}
