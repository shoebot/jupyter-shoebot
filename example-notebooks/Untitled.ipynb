{
 "cells": [
  {
   "cell_type": "code",
   "execution_count": 1,
   "metadata": {},
   "outputs": [
    {
     "data": {
      "image/png": "iVBORw0KGgoAAAANSUhEUgAAAMgAAABkCAIAAABM5OhcAAAABmJLR0QA%2FwD%2FAP%2BgvaeTAAADTElEQVR4nO3dMUvjYBzH8afHkUI5ugsKunYoXdNG34GvwC5CNwsdJAjuglA7WNQOHVx8E87VZi66Kw7uBiqkXW4IF4pnr2fSn230%2B5lCUsJ%2F%2BPLEpLXNPK%2BsGGDefix6AHxNhAUJwoIEYUGCsCBBWJAgLEj8nHbAKpeztv2Zo3xI4Hmjfn%2FRU2CqqWFlbfvX%2Fv5njvIxrRZhLTMuhZCYumJFPM%2FrL83aUC6X7SW%2BQCMyO6x%2Bv99qtT5hlP9EWKnApRAShAUJwoIEYUGCsCAx%2B65wpnw%2B7zjO%2Bvq6Mebx8fH29vbl5SX5aZFqicKyLMt13d3d3VwuF%2B18fX29vLxsNpuj0SjxeEir%2BGFls9mrq6tKpfJmfy6X29vbK5VK1Wo1CIJk4yGt4v%2BN5bpuVNXd3V2n0%2Bl0Ovf39%2BGeSqXiuu4cBkQ6xVyx8vl8rVYLt4%2BOjs7Pz6ND9Xr98PDQGFOr1drttu%2F7yadE6sRcsba2tizLMsYMBoPJqowxZ2dng8HAGGNZ1ubmZvIRkUYxw1pdXQ033n1%2F2vO8cGNtbS3e%2BZF2McPKZDJvNoBJMcN6enoKN8rl8t9Ho53Ry%2FDdxAyr1%2BuFjxKKxWKj0ZhcwBqNRrFYNMYEQXBzczOvQZEuMe8Kfd%2Fvdrv1et0Yc3BwsL29HTbkOE6hUAhf0%2B12uSX8tuI%2FID05OSmVSo7jGGMKhULUU6jX6zWbzaTTIbXiPyAdjUY7Ozvtdns4HE7uHw6Hp6en1Wp1PB4nHg9plei9wvF4fHx8fHFxYdv2xsaGMebh4cHzPK6AmMOnG3zfv76%2BTn4efCV8HgsShAUJwoIEYUGCsCBBWJAgLEgQFiQICxKEBQnCggRhQYKwIEFYkCAsSBAWJAgLEoQFCcKCBGFBgrAgQViQICxIEBYkCAsSs%2F8T%2Bt1vwFqUpRoG%2FzA7LNu2%2BSU3fBSXQkhMXbECzzPL9PuXbwR%2Fvj8XyynzvLKy6BnwBXEphARhQYKwIEFYkCAsSBAWJAgLEoQFCcKCBGFBgrAgQViQICxIEBYkCAsShAUJwoIEYUGCsCBBWJAgLEgQFiQICxKEBQnCggRhQYKwIEFYkCAsSBAWJAgLEoQFCcKCBGFBgrAgQViQICxI%2FAbQUbp30JmJdwAAAABJRU5ErkJggg%3D%3D"
     },
     "metadata": {
      "image/png": {
       "height": 100,
       "width": 200
      }
     },
     "output_type": "display_data"
    }
   ],
   "source": [
    "size(200,100)\n",
    "background(0.9, 0.1, 0.1)\n",
    "stroke(\"#fff\")\n",
    "strokewidth(3)\n",
    "fill(0.1)\n",
    "rect(10,10, 50,50)\n",
    "circle(20,20,10)"
   ]
  },
  {
   "cell_type": "code",
   "execution_count": 3,
   "metadata": {
    "scrolled": true
   },
   "outputs": [
    {
     "data": {
      "image/png": "iVBORw0KGgoAAAANSUhEUgAAAMgAAABkCAIAAABM5OhcAAAABmJLR0QA%2FwD%2FAP%2BgvaeTAAADgklEQVR4nO3dMUvjYBzH8afHEaFDl5sOFBTubuhQ2rFtdL7hfAV2UbpZ6CBBcBeE6mBROxR08R3c5Fxtx1J0Og8UdwcDFdouNwSKqKWa5leT4%2FuZQuJfMnx5HlMLif3%2B9dUAQfv00TeA%2FxNhQYKwIEFYkCAsSBAWJAgLEp9HXfjyLfPle2aat%2FIu99ft%2B7%2Ftj74LjDQ6rO%2BZHz%2FXpnkr7%2FLHHBNWmLEVQmLkijXUareb7bCsDblMJpsJ7waNofFhNdvtvePjKdzKm6ytEVYksBVCgrAgQViQICxIEBYkxj8VjpVIJGzbnp%2BfN8bc3t5eXFw8PDxMYRZhNlFYlmU5jrO6uhqPx4cnHx8fT05OKpVKv98XzSL8%2FIc1MzNzenqaz%2BefnY%2FH4%2Bvr6%2Bl0ulAo9Hq9wGcRCf7%2FxnIcZ1jG5eVlrVar1WpXV1femXw%2B7ziOYhaR4HPFSiQSxWLRO97e3j48PBxeKpVKW1tbxphisVitVl3XDXAWUeFzxVpaWrIsyxjT6XSelmGMOTg46HQ6xhjLshYXF4OdRVT4DGt2dtY7aDabL6%2B2Wi3vYG5uLthZRIXPsGKx2LOD6cwiKnyGdXd35x3kcrmXV4cnhz8W1CyiwmdYjUbD%2BzgglUqVy%2BWni1C5XE6lUsaYXq93fn4e7CyiwudToeu69Xq9VCoZYzY3N5eXl70ObNtOJpPez9Tr9Vcf6yaZRVT4%2F4B0d3c3nU7btm2MSSaTwyY8jUajUqkoZhEJ%2Fj8g7ff7Kysr1Wq12%2B0%2BPd%2Ftdvf39wuFwmAwUMwiEib6X%2BFgMNjZ2Tk6OspmswsLC8aYm5ubVqv1ll1sklmEXwDfbnBd9%2BzsbPqzCDO%2BjwUJwoIEYUGCsCBBWJCY6KlwY2MjqPt4Zm9vT%2FSbMR2EBQm2QkhMtGKxrmAUwoIEWyEkCAsShAUJwoIEYUGCsCBBWJAgLEgQFiQICxKEBQnCggRhQYKwIEFYkBj%2FfaxcJmPWwvJGzByv%2FoqI8WFleUUg3o%2BtEBIjV6z76%2FYfE5r3X75wfx2Wl77iVbHfv75%2B9D3gP8RWCAnCggRhQYKwIEFYkCAsSBAWJAgLEoQFCcKCBGFBgrAgQViQICxIEBYkCAsShAUJwoIEYUGCsCBBWJAgLEgQFiQICxKEBQnCggRhQYKwIEFYkCAsSBAWJAgLEoQFCcKCBGFBgrAgQViQ%2BAdqFV7Zn7bOYwAAAABJRU5ErkJggg%3D%3D"
     },
     "metadata": {
      "image/png": {
       "height": 100,
       "width": 200
      }
     },
     "output_type": "display_data"
    }
   ],
   "source": [
    "size(200,100)\n",
    "background(0.7, 0.3, 0.1)\n",
    "stroke(\"#ffd\")\n",
    "strokewidth(3)\n",
    "fill(0.1)\n",
    "rect(10,10, 50,50)\n",
    "\n",
    "stroke('#fff')\n",
    "circle(20,20,10)\n",
    "circle(40,20,10)\n",
    "\n",
    "line(20, 40, 50, 40)"
   ]
  },
  {
   "cell_type": "code",
   "execution_count": null,
   "metadata": {
    "scrolled": false
   },
   "outputs": [
    {
     "name": "stdout",
     "output_type": "stream",
     "text": [
      "Traceback (most recent call last):\n",
      "  File \"shoebot_kernel/kernel.py\", line 36, in do_execute\n",
      "    bot.run(code, break_on_error=True)\n",
      "  File \"/home/rlafuente/repos/python-libs/shoebot/shoebot/grammar/grammar.py\", line 240, in run\n",
      "    self._run_frame(executor, limit=frame_limiter, iteration=iteration)\n",
      "  File \"/home/rlafuente/repos/python-libs/shoebot/shoebot/grammar/grammar.py\", line 148, in _run_frame\n",
      "    executor.run()\n",
      "  File \"/home/rlafuente/repos/python-libs/shoebot/shoebot/grammar/livecode.py\", line 115, in run\n",
      "    self.do_exec(self.known_good, self.ns)\n",
      "  File \"/home/rlafuente/repos/python-libs/shoebot/shoebot/grammar/livecode.py\", line 82, in do_exec\n",
      "    exec source in ns\n",
      "  File \"<string>\", line 8, in <module>\n",
      "NameError: name 'red' is not defined\n"
     ]
    }
   ],
   "source": [
    "size(200,100)\n",
    "background(0.7, 0.3, 0.1)\n",
    "stroke(\"#ffd\")\n",
    "strokewidth(3)\n",
    "fill(0.1)\n",
    "rect(10,10, 50,50)\n",
    "\n",
    "stroke(red)\n",
    "circle(20,20,10)\n",
    "circle(40,20,10)\n",
    "\n",
    "line(20, 40, 50, 40)"
   ]
  }
 ],
 "metadata": {
  "kernelspec": {
   "display_name": "Shoebot",
   "language": "",
   "name": "shoebot_kernel"
  },
  "language_info": {
   "file_extension": ".txt",
   "mimetype": "text/plain",
   "name": "Any text"
  }
 },
 "nbformat": 4,
 "nbformat_minor": 2
}
