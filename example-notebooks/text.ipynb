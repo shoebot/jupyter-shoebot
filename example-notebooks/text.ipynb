{
 "cells": [
  {
   "cell_type": "markdown",
   "metadata": {},
   "source": [
    "TODO: Document these experiments. These were ways to show how text works, but also ended up as a quick look into how we can add commands to a previous bot and show the updated results."
   ]
  },
  {
   "cell_type": "code",
   "execution_count": 1,
   "metadata": {},
   "outputs": [],
   "source": [
    "import shoebot\n",
    "\n",
    "def init_bot():\n",
    "    bot = shoebot.create_bot()\n",
    "    bot.size(200,200)\n",
    "    bot.background(0.2)\n",
    "    bot.stroke(0.8)\n",
    "    bot.fill(0.8, 0.3)\n",
    "    return bot"
   ]
  },
  {
   "cell_type": "code",
   "execution_count": 3,
   "metadata": {},
   "outputs": [
    {
     "data": {
      "image/png": "[encoded data removed]",
      "text/plain": [
       "<IPython.core.display.Image object>"
      ]
     },
     "execution_count": 3,
     "metadata": {},
     "output_type": "execute_result"
    }
   ],
   "source": [
    "bot = init_bot()\n",
    "bot.fill('#fff')\n",
    "bot.font('Courier')\n",
    "bot.align(bot.CENTER)\n",
    "bot.text(\"Hello hii\", 20, 20, width=70)\n",
    "bot.show()"
   ]
  },
  {
   "cell_type": "code",
   "execution_count": 4,
   "metadata": {},
   "outputs": [
    {
     "data": {
      "image/png": "[encoded data removed]",
      "text/plain": [
       "<IPython.core.display.Image object>"
      ]
     },
     "execution_count": 4,
     "metadata": {},
     "output_type": "execute_result"
    }
   ],
   "source": [
    "bot.fill(0.3)\n",
    "bot.nostroke()\n",
    "\n",
    "bot.star(150, 150, 30)\n",
    "bot.show()"
   ]
  }
 ],
 "metadata": {
  "kernelspec": {
   "display_name": "Python 2",
   "language": "python",
   "name": "python2"
  },
  "language_info": {
   "codemirror_mode": {
    "name": "ipython",
    "version": 2
   },
   "file_extension": ".py",
   "mimetype": "text/x-python",
   "name": "python",
   "nbconvert_exporter": "python",
   "pygments_lexer": "ipython2",
   "version": "2.7.14+"
  }
 },
 "nbformat": 4,
 "nbformat_minor": 2
}
